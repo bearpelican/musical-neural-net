{
 "cells": [
  {
   "cell_type": "code",
   "execution_count": 1,
   "metadata": {},
   "outputs": [],
   "source": [
    "from playlist import make_playlist\n",
    "from IPython.display import display,Audio,HTML"
   ]
  },
  {
   "cell_type": "code",
   "execution_count": 2,
   "metadata": {},
   "outputs": [],
   "source": []
  },
  {
   "cell_type": "code",
   "execution_count": 3,
   "metadata": {},
   "outputs": [],
   "source": [
    "# Optionally adjust \n",
    "#    --random_freq (from 0 to 1, how often to choose a random note rather than the most likely note)\n",
    "#    --trunc (how many of the top model proposed guesses to consider - a smaller number means stay only to the most likely options)"
   ]
  },
  {
   "cell_type": "code",
   "execution_count": 10,
   "metadata": {},
   "outputs": [],
   "source": [
    "import torch"
   ]
  },
  {
   "cell_type": "code",
   "execution_count": null,
   "metadata": {},
   "outputs": [],
   "source": [
    "torch.tensor()"
   ]
  },
  {
   "cell_type": "code",
   "execution_count": 9,
   "metadata": {},
   "outputs": [
    {
     "name": "stdout",
     "output_type": "stream",
     "text": [
      "Loading network\n",
      "Preparing to generate a batch of 16 samples.\n",
      "Traceback (most recent call last):\n",
      "  File \"generate.py\", line 198, in <module>\n",
      "    args.trunc, args.random_freq, args.prompt_size)\n",
      "  File \"generate.py\", line 139, in main\n",
      "    params=params, TEXT=TEXT)\n",
      "  File \"generate.py\", line 88, in create_generation_batch\n",
      "    t=TEXT.numericalize(s) \n",
      "  File \"/home/ubuntu/anaconda3/envs/musical_neural_net/lib/python3.7/site-packages/torchtext/data/field.py\", line 323, in numericalize\n",
      "    var = torch.tensor(arr, dtype=self.dtype, device=device)\n",
      "AttributeError: 'Field' object has no attribute 'dtype'\n"
     ]
    }
   ],
   "source": [
    "!python generate.py -model notewise_generator -output notewise_generator_samples --random_freq .8 --trunc 3"
   ]
  },
  {
   "cell_type": "code",
   "execution_count": 11,
   "metadata": {},
   "outputs": [
    {
     "name": "stderr",
     "output_type": "stream",
     "text": [
      "ERROR:root:No traceback has been produced, nothing to debug.\n"
     ]
    }
   ],
   "source": [
    "%debug"
   ]
  },
  {
   "cell_type": "code",
   "execution_count": null,
   "metadata": {},
   "outputs": [],
   "source": [
    "music_dir = u'./data/output/notewise_generator_samples'"
   ]
  },
  {
   "cell_type": "code",
   "execution_count": null,
   "metadata": {
    "scrolled": true
   },
   "outputs": [],
   "source": [
    "playlist_html, playlist_css, playlist_js=make_playlist(music_dir)\n",
    "display(HTML(playlist_html))\n",
    "display(HTML(playlist_css))\n",
    "display(HTML(playlist_js))"
   ]
  },
  {
   "cell_type": "code",
   "execution_count": null,
   "metadata": {},
   "outputs": [],
   "source": []
  }
 ],
 "metadata": {
  "kernelspec": {
   "display_name": "Python 3",
   "language": "python",
   "name": "python3"
  },
  "language_info": {
   "codemirror_mode": {
    "name": "ipython",
    "version": 3
   },
   "file_extension": ".py",
   "mimetype": "text/x-python",
   "name": "python",
   "nbconvert_exporter": "python",
   "pygments_lexer": "ipython3",
   "version": "3.6.5"
  }
 },
 "nbformat": 4,
 "nbformat_minor": 2
}
